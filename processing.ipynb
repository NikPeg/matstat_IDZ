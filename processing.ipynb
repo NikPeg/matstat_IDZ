{
 "cells": [
  {
   "cell_type": "markdown",
   "id": "7d25a2a3",
   "metadata": {},
   "source": [
    "Чтение файла"
   ]
  },
  {
   "cell_type": "code",
   "execution_count": 6,
   "id": "9b943d92",
   "metadata": {},
   "outputs": [
    {
     "name": "stdout",
     "output_type": "stream",
     "text": [
      "[['brick', 1, 5.0, 18.0, 3.0, 55.723379, 37.628577, 5600000], ['brick', 1, 5.0, 15.0, 3.0, 55.72598000000001, 37.671031, 4650000], ['brick', 1, 5.0, 11.9, 1.5, 55.735976, 37.657817, 2990000], ['brick', 1, 7.0, 18.4, 3.0, 55.786698, 37.595321000000006, 4390000], ['brick', 2, 5.0, 17.6, 2.0, 55.76789399999999, 37.66592, 4890000], ['brick', 5, 9.0, 21.5, 3.0, 55.784066, 37.637425, 8050000], ['brick', 5, 9.0, 21.5, 3.0, 55.784066, 37.637425, 8050000], ['monolithBrick', 1, 3.0, 29.0, 6.0, 55.76324, 37.651825, 15895000], ['brick', 5, 8.0, 28.8, 6.5, 55.776472, 37.598869, 10500000], ['brick', 1, 5.0, 25.2, 2.0, 55.735976, 37.657817, 4850000]]\n"
     ]
    }
   ],
   "source": [
    "data = []\n",
    "with open('moscow_dataset_2020.csv', 'r') as data_file:\n",
    "    data_file.readline()\n",
    "    lines_count = 63945\n",
    "    for i in range(int(0.7 * lines_count)):\n",
    "        next_line = data_file.readline().strip()\n",
    "        next_strings = next_line.split(',')\n",
    "        next_data = []\n",
    "        for elem in next_strings:\n",
    "            try:\n",
    "                next_data.append(int(elem))\n",
    "            except ValueError:\n",
    "                try:\n",
    "                    next_data.append(float(elem))\n",
    "                except ValueError:\n",
    "                    next_data.append(elem)\n",
    "        data.append(next_data)\n",
    "print(data[:10])"
   ]
  }
 ],
 "metadata": {
  "kernelspec": {
   "display_name": "Python 3 (ipykernel)",
   "language": "python",
   "name": "python3"
  },
  "language_info": {
   "codemirror_mode": {
    "name": "ipython",
    "version": 3
   },
   "file_extension": ".py",
   "mimetype": "text/x-python",
   "name": "python",
   "nbconvert_exporter": "python",
   "pygments_lexer": "ipython3",
   "version": "3.9.2"
  }
 },
 "nbformat": 4,
 "nbformat_minor": 5
}
