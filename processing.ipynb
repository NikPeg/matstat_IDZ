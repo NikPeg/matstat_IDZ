{
 "cells": [
  {
   "cell_type": "markdown",
   "id": "7d25a2a3",
   "metadata": {},
   "source": [
    "Чтение файла и создание обучающего файла из 70% строк"
   ]
  },
  {
   "cell_type": "code",
   "execution_count": 18,
   "id": "9b943d92",
   "metadata": {},
   "outputs": [
    {
     "name": "stdout",
     "output_type": "stream",
     "text": [
      "[['brick', 1, 5.0, 18.0, 3.0, 55.723379, 37.628577, 5600000], ['brick', 1, 5.0, 15.0, 3.0, 55.72598000000001, 37.671031, 4650000], ['brick', 1, 5.0, 11.9, 1.5, 55.735976, 37.657817, 2990000], ['brick', 1, 7.0, 18.4, 3.0, 55.786698, 37.595321000000006, 4390000], ['brick', 2, 5.0, 17.6, 2.0, 55.76789399999999, 37.66592, 4890000], ['brick', 5, 9.0, 21.5, 3.0, 55.784066, 37.637425, 8050000], ['brick', 5, 9.0, 21.5, 3.0, 55.784066, 37.637425, 8050000], ['monolithBrick', 1, 3.0, 29.0, 6.0, 55.76324, 37.651825, 15895000], ['brick', 5, 8.0, 28.8, 6.5, 55.776472, 37.598869, 10500000], ['brick', 1, 5.0, 25.2, 2.0, 55.735976, 37.657817, 4850000]]\n"
     ]
    }
   ],
   "source": [
    "training_data = []\n",
    "with open('moscow_dataset_2020.csv', 'r') as data_file:\n",
    "    with open('training_dataset.csv', 'w') as trainig_file:\n",
    "        trainig_file.write(data_file.readline())\n",
    "        lines_count = 63945\n",
    "        for i in range(int(0.7 * lines_count)):\n",
    "            next_line = data_file.readline().strip()\n",
    "            trainig_file.write(f\"{next_line}\\n\")\n",
    "            next_strings = next_line.split(',')\n",
    "            next_data = []\n",
    "            for elem in next_strings:\n",
    "                try:\n",
    "                    next_data.append(int(elem))\n",
    "                except ValueError:\n",
    "                    try:\n",
    "                        next_data.append(float(elem))\n",
    "                    except ValueError:\n",
    "                        next_data.append(elem)\n",
    "            training_data.append(next_data)\n",
    "print(training_data[:10])"
   ]
  },
  {
   "cell_type": "code",
   "execution_count": 19,
   "id": "90ef4c47",
   "metadata": {},
   "outputs": [
    {
     "name": "stdout",
     "output_type": "stream",
     "text": [
      "Requirement already satisfied: pandas in c:\\users\\pegan\\appdata\\local\\programs\\python\\python39\\lib\\site-packages (1.4.2)\n",
      "Requirement already satisfied: pytz>=2020.1 in c:\\users\\pegan\\appdata\\local\\programs\\python\\python39\\lib\\site-packages (from pandas) (2022.1)\n",
      "Requirement already satisfied: python-dateutil>=2.8.1 in c:\\users\\pegan\\appdata\\local\\programs\\python\\python39\\lib\\site-packages (from pandas) (2.8.1)\n",
      "Requirement already satisfied: numpy>=1.18.5 in c:\\users\\pegan\\appdata\\local\\programs\\python\\python39\\lib\\site-packages (from pandas) (1.21.0)\n",
      "Requirement already satisfied: six>=1.5 in c:\\users\\pegan\\appdata\\local\\programs\\python\\python39\\lib\\site-packages (from python-dateutil>=2.8.1->pandas) (1.16.0)\n"
     ]
    },
    {
     "name": "stderr",
     "output_type": "stream",
     "text": [
      "WARNING: Ignoring invalid distribution -illow (c:\\users\\pegan\\appdata\\local\\programs\\python\\python39\\lib\\site-packages)\n",
      "WARNING: Ignoring invalid distribution -illow (c:\\users\\pegan\\appdata\\local\\programs\\python\\python39\\lib\\site-packages)\n",
      "WARNING: Ignoring invalid distribution -illow (c:\\users\\pegan\\appdata\\local\\programs\\python\\python39\\lib\\site-packages)\n",
      "WARNING: Ignoring invalid distribution -illow (c:\\users\\pegan\\appdata\\local\\programs\\python\\python39\\lib\\site-packages)\n",
      "WARNING: Ignoring invalid distribution -illow (c:\\users\\pegan\\appdata\\local\\programs\\python\\python39\\lib\\site-packages)\n",
      "WARNING: Ignoring invalid distribution -illow (c:\\users\\pegan\\appdata\\local\\programs\\python\\python39\\lib\\site-packages)\n",
      "WARNING: You are using pip version 22.0.4; however, version 22.1.1 is available.\n",
      "You should consider upgrading via the 'c:\\users\\pegan\\appdata\\local\\programs\\python\\python39\\python.exe -m pip install --upgrade pip' command.\n"
     ]
    },
    {
     "name": "stdout",
     "output_type": "stream",
     "text": [
      "Requirement already satisfied: numpy in c:\\users\\pegan\\appdata\\local\\programs\\python\\python39\\lib\\site-packages (1.21.0)\n"
     ]
    },
    {
     "name": "stderr",
     "output_type": "stream",
     "text": [
      "WARNING: Ignoring invalid distribution -illow (c:\\users\\pegan\\appdata\\local\\programs\\python\\python39\\lib\\site-packages)\n",
      "WARNING: Ignoring invalid distribution -illow (c:\\users\\pegan\\appdata\\local\\programs\\python\\python39\\lib\\site-packages)\n",
      "WARNING: Ignoring invalid distribution -illow (c:\\users\\pegan\\appdata\\local\\programs\\python\\python39\\lib\\site-packages)\n",
      "WARNING: Ignoring invalid distribution -illow (c:\\users\\pegan\\appdata\\local\\programs\\python\\python39\\lib\\site-packages)\n",
      "WARNING: Ignoring invalid distribution -illow (c:\\users\\pegan\\appdata\\local\\programs\\python\\python39\\lib\\site-packages)\n",
      "WARNING: Ignoring invalid distribution -illow (c:\\users\\pegan\\appdata\\local\\programs\\python\\python39\\lib\\site-packages)\n",
      "WARNING: You are using pip version 22.0.4; however, version 22.1.1 is available.\n",
      "You should consider upgrading via the 'c:\\users\\pegan\\appdata\\local\\programs\\python\\python39\\python.exe -m pip install --upgrade pip' command.\n"
     ]
    },
    {
     "name": "stdout",
     "output_type": "stream",
     "text": [
      "Requirement already satisfied: seaborn in c:\\users\\pegan\\appdata\\local\\programs\\python\\python39\\lib\\site-packages (0.11.2)\n",
      "Requirement already satisfied: scipy>=1.0 in c:\\users\\pegan\\appdata\\local\\programs\\python\\python39\\lib\\site-packages (from seaborn) (1.7.0)\n",
      "Requirement already satisfied: matplotlib>=2.2 in c:\\users\\pegan\\appdata\\local\\programs\\python\\python39\\lib\\site-packages (from seaborn) (3.4.2)\n",
      "Requirement already satisfied: pandas>=0.23 in c:\\users\\pegan\\appdata\\local\\programs\\python\\python39\\lib\\site-packages (from seaborn) (1.4.2)\n",
      "Requirement already satisfied: numpy>=1.15 in c:\\users\\pegan\\appdata\\local\\programs\\python\\python39\\lib\\site-packages (from seaborn) (1.21.0)\n",
      "Requirement already satisfied: pyparsing>=2.2.1 in c:\\users\\pegan\\appdata\\local\\programs\\python\\python39\\lib\\site-packages (from matplotlib>=2.2->seaborn) (2.4.7)\n",
      "Requirement already satisfied: kiwisolver>=1.0.1 in c:\\users\\pegan\\appdata\\local\\programs\\python\\python39\\lib\\site-packages (from matplotlib>=2.2->seaborn) (1.3.1)\n",
      "Requirement already satisfied: pillow>=6.2.0 in c:\\users\\pegan\\appdata\\local\\programs\\python\\python39\\lib\\site-packages (from matplotlib>=2.2->seaborn) (8.2.0)\n",
      "Requirement already satisfied: cycler>=0.10 in c:\\users\\pegan\\appdata\\local\\programs\\python\\python39\\lib\\site-packages (from matplotlib>=2.2->seaborn) (0.10.0)\n",
      "Requirement already satisfied: python-dateutil>=2.7 in c:\\users\\pegan\\appdata\\local\\programs\\python\\python39\\lib\\site-packages (from matplotlib>=2.2->seaborn) (2.8.1)\n",
      "Requirement already satisfied: pytz>=2020.1 in c:\\users\\pegan\\appdata\\local\\programs\\python\\python39\\lib\\site-packages (from pandas>=0.23->seaborn) (2022.1)\n",
      "Requirement already satisfied: six in c:\\users\\pegan\\appdata\\local\\programs\\python\\python39\\lib\\site-packages (from cycler>=0.10->matplotlib>=2.2->seaborn) (1.16.0)\n"
     ]
    },
    {
     "name": "stderr",
     "output_type": "stream",
     "text": [
      "WARNING: Ignoring invalid distribution -illow (c:\\users\\pegan\\appdata\\local\\programs\\python\\python39\\lib\\site-packages)\n",
      "WARNING: Ignoring invalid distribution -illow (c:\\users\\pegan\\appdata\\local\\programs\\python\\python39\\lib\\site-packages)\n",
      "WARNING: Ignoring invalid distribution -illow (c:\\users\\pegan\\appdata\\local\\programs\\python\\python39\\lib\\site-packages)\n",
      "WARNING: Ignoring invalid distribution -illow (c:\\users\\pegan\\appdata\\local\\programs\\python\\python39\\lib\\site-packages)\n",
      "WARNING: Ignoring invalid distribution -illow (c:\\users\\pegan\\appdata\\local\\programs\\python\\python39\\lib\\site-packages)\n",
      "WARNING: Ignoring invalid distribution -illow (c:\\users\\pegan\\appdata\\local\\programs\\python\\python39\\lib\\site-packages)\n",
      "WARNING: You are using pip version 22.0.4; however, version 22.1.1 is available.\n",
      "You should consider upgrading via the 'c:\\users\\pegan\\appdata\\local\\programs\\python\\python39\\python.exe -m pip install --upgrade pip' command.\n"
     ]
    }
   ],
   "source": [
    "!pip install pandas\n",
    "!pip install numpy\n",
    "!pip install seaborn"
   ]
  },
  {
   "cell_type": "code",
   "execution_count": 20,
   "id": "8c6f4940",
   "metadata": {},
   "outputs": [
    {
     "name": "stdout",
     "output_type": "stream",
     "text": [
      "             floorNumber  floorsTotal  totalArea  kitchenArea  latitude  \\\n",
      "floorNumber     1.000000     0.674164   0.151724     0.239781 -0.010977   \n",
      "floorsTotal     0.674164     1.000000   0.155260     0.322199  0.002777   \n",
      "totalArea       0.151724     0.155260   1.000000     0.634817  0.009337   \n",
      "kitchenArea     0.239781     0.322199   0.634817     1.000000 -0.026857   \n",
      "latitude       -0.010977     0.002777   0.009337    -0.026857  1.000000   \n",
      "longitude      -0.085880    -0.121054  -0.088586    -0.125666  0.022457   \n",
      "\n",
      "             longitude  \n",
      "floorNumber  -0.085880  \n",
      "floorsTotal  -0.121054  \n",
      "totalArea    -0.088586  \n",
      "kitchenArea  -0.125666  \n",
      "latitude      0.022457  \n",
      "longitude     1.000000  \n"
     ]
    },
    {
     "data": {
      "text/plain": [
       "<AxesSubplot:>"
      ]
     },
     "execution_count": 20,
     "metadata": {},
     "output_type": "execute_result"
    },
    {
     "data": {
      "image/png": "[encoded data removed]",
      "text/plain": [
       "<Figure size 432x288 with 2 Axes>"
      ]
     },
     "metadata": {
      "needs_background": "light"
     },
     "output_type": "display_data"
    }
   ],
   "source": [
    "import os\n",
    "import pandas as pd\n",
    "import numpy as np\n",
    "import seaborn as sn\n",
    "\n",
    "# Loading the dataset\n",
    "BIKE = pd.read_csv(\"training_dataset.csv\")\n",
    "\n",
    "# Numeric columns of the dataset\n",
    "numeric_col = ['floorNumber','floorsTotal','totalArea','kitchenArea','latitude','longitude']\n",
    "\n",
    "# Correlation Matrix formation\n",
    "corr_matrix = BIKE.loc[:,numeric_col].corr()\n",
    "print(corr_matrix)\n",
    "\n",
    "#Using heatmap to visualize the correlation matrix\n",
    "sn.heatmap(corr_matrix, annot=True)"
   ]
  },
  {
   "cell_type": "code",
   "execution_count": null,
   "id": "0b5c6f0c",
   "metadata": {},
   "outputs": [],
   "source": []
  }
 ],
 "metadata": {
  "kernelspec": {
   "display_name": "Python 3 (ipykernel)",
   "language": "python",
   "name": "python3"
  },
  "language_info": {
   "codemirror_mode": {
    "name": "ipython",
    "version": 3
   },
   "file_extension": ".py",
   "mimetype": "text/x-python",
   "name": "python",
   "nbconvert_exporter": "python",
   "pygments_lexer": "ipython3",
   "version": "3.9.2"
  }
 },
 "nbformat": 4,
 "nbformat_minor": 5
}
